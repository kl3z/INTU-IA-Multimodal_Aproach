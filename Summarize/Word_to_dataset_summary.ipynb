{
 "cells": [
  {
   "cell_type": "code",
   "execution_count": 3,
   "id": "b8a9b32f",
   "metadata": {},
   "outputs": [],
   "source": [
    "import numpy as np\n",
    "import re\n",
    "from docx import Document\n",
    "import pandas as pd\n",
    "from datetime import datetime"
   ]
  },
  {
   "cell_type": "code",
   "execution_count": null,
   "id": "592bc476",
   "metadata": {},
   "outputs": [
    {
     "name": "stdout",
     "output_type": "stream",
     "text": [
      "✅ Documento processado! Salvo em: C:\\Users\\garci\\OneDrive\\Área de Trabalho\\Ambiente de trabalho unbunto\\Cienciadedados\\IPL\\Tese\\github\\entrevistas.xlsx\n"
     ]
    }
   ],
   "source": [
    "from docx import Document\n",
    "import pandas as pd\n",
    "input_path = r\"E:\\Disco\\Cienciadedados\\IPL\\Text Mining\\Trabalho\\Corpus TM\\Corpus TM\\Interrogations_LLM's.docx\"\n",
    "output_path = r\"C:\\Users\\garci\\OneDrive\\Área de Trabalho\\Ambiente de trabalho unbunto\\Cienciadedados\\IPL\\Tese\\github\\entrevistas.xlsx\"\n",
    "doc = Document(input_path)\n",
    "entrevistas = []\n",
    "entrevista_atual = \"\"\n",
    "for para in doc.paragraphs:\n",
    "    texto = para.text.strip()\n",
    "    if \"ROTEIRO DE ENTREVISTA SIMULADA\" in texto.upper():\n",
    "        if entrevista_atual:\n",
    "            entrevistas.append(entrevista_atual.strip())\n",
    "        entrevista_atual = texto + \"\\n\"\n",
    "    else:\n",
    "        entrevista_atual += texto + \"\\n\"\n",
    "if entrevista_atual.strip():\n",
    "    entrevistas.append(entrevista_atual.strip())\n",
    "df = pd.DataFrame({\"Entrevista\": entrevistas})\n",
    "df.to_excel(output_path, index=False)\n",
    "print(f\"✅ Documento processado! Salvo em: {output_path}\")"
   ]
  }
 ],
 "metadata": {
  "kernelspec": {
   "display_name": "Python 3",
   "language": "python",
   "name": "python3"
  },
  "language_info": {
   "codemirror_mode": {
    "name": "ipython",
    "version": 3
   },
   "file_extension": ".py",
   "mimetype": "text/x-python",
   "name": "python",
   "nbconvert_exporter": "python",
   "pygments_lexer": "ipython3",
   "version": "3.12.6"
  }
 },
 "nbformat": 4,
 "nbformat_minor": 5
}
