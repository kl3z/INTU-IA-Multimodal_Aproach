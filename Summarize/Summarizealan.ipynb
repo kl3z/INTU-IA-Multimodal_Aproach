{
 "cells": [
  {
   "cell_type": "code",
   "execution_count": null,
   "id": "5a7b1fda",
   "metadata": {},
   "outputs": [],
   "source": [
    "import pandas as pd\n",
    "from transformers import pipeline"
   ]
  },
  {
   "cell_type": "code",
   "execution_count": 5,
   "id": "10c80035",
   "metadata": {},
   "outputs": [
    {
     "name": "stderr",
     "output_type": "stream",
     "text": [
      "You seem to be using the pipelines sequentially on GPU. In order to maximize efficiency please use a dataset\n"
     ]
    },
    {
     "name": "stdout",
     "output_type": "stream",
     "text": [
      "Arquivo salvo em: entrevistas_com_sumarios.xlsx\n"
     ]
    }
   ],
   "source": [
    "input_excel = \"entrevistas.xlsx\" \n",
    "output_excel = \"entrevistas_com_sumarios.xlsx\"\n",
    "sumarizador = pipeline(\"summarization\", model=\"rhaymison/flan-t5-portuguese-small-summarization\",tokenizer=\"rhaymison/flan-t5-portuguese-small-summarization\", device=0)\n",
    "def sumarizar_texto(texto):\n",
    "    try:\n",
    "        resultado = sumarizador(\n",
    "            texto,\n",
    "            max_length=500,\n",
    "            min_length=30,\n",
    "            do_sample=False,\n",
    "            truncation=True\n",
    "        )\n",
    "        return resultado[0]['summary_text']\n",
    "    except Exception as e:\n",
    "        print(f\"Erro ao sumarizar: {e}\")\n",
    "        return \"\"\n",
    "df = pd.read_excel(input_excel)\n",
    "df['Sumario_T5'] = df['Entrevista'].apply(sumarizar_texto)\n",
    "df.to_excel(output_excel, index=False)\n",
    "print(f\"Arquivo salvo em: {output_excel}\")"
   ]
  }
 ],
 "metadata": {
  "kernelspec": {
   "display_name": "Python 3",
   "language": "python",
   "name": "python3"
  },
  "language_info": {
   "codemirror_mode": {
    "name": "ipython",
    "version": 3
   },
   "file_extension": ".py",
   "mimetype": "text/x-python",
   "name": "python",
   "nbconvert_exporter": "python",
   "pygments_lexer": "ipython3",
   "version": "3.12.6"
  }
 },
 "nbformat": 4,
 "nbformat_minor": 5
}
