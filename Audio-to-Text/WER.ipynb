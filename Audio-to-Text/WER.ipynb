{
 "cells": [
  {
   "cell_type": "code",
   "execution_count": 4,
   "id": "0ecd0974",
   "metadata": {},
   "outputs": [],
   "source": [
    "#!pip install jiwer"
   ]
  },
  {
   "cell_type": "code",
   "execution_count": 6,
   "id": "e4cfee46",
   "metadata": {},
   "outputs": [],
   "source": [
    "from jiwer import wer\n",
    "import random\n",
    "import pandas as pd"
   ]
  },
  {
   "cell_type": "code",
   "execution_count": null,
   "id": "19e5f1a4",
   "metadata": {},
   "outputs": [
    {
     "name": "stdout",
     "output_type": "stream",
     "text": [
      "WER: 0.14473684210526316\n"
     ]
    }
   ],
   "source": [
    "reference = \"\"\"\n",
    "Boa tarde, senhor João Pereira. Gostaria de começar explicando que esta entrevista está sendo gravada. \n",
    "O senhor tem o direito de permanecer em silêncio e de contar com um advogado durante todo o processo. \n",
    "Entendeu seus direitos? Sim. Ótimo. Vamos conversar sobre um incidente ocorrido recentemente em Lisboa, \n",
    "envolvendo a senhora Joana Castro. Ela relatou que sua mala foi roubada por volta das 20:00, no Colombo.\n",
    "Estamos aqui para esclarecer os fatos. Está disposto a colaborar?\n",
    "\"\"\".replace(\"\\n\", \" \").strip()\n",
    "\n",
    "# Gerar transcrição com erro\n",
    "def gerar_transcricao_errada(texto, erro_desejado=0.18):\n",
    "    palavras = texto.split()\n",
    "    n_total = len(palavras)\n",
    "    n_erros = round(n_total * erro_desejado)\n",
    "\n",
    "    for _ in range(n_erros):\n",
    "        i = random.randint(0, len(palavras) - 1)\n",
    "        acao = random.choice([\"substituir\", \"omitir\", \"inserir\"])\n",
    "\n",
    "        if acao == \"substituir\":\n",
    "            palavras[i] = \"ERRO\"\n",
    "        elif acao == \"omitir\":\n",
    "            palavras[i] = \"\"\n",
    "        elif acao == \"inserir\":\n",
    "            palavras.insert(i, \"EXTRA\")\n",
    "\n",
    "    palavras = [p for p in palavras if p != \"\"]\n",
    "    return \" \".join(palavras)\n",
    "\n",
    "transcricao = gerar_transcricao_errada(reference)\n",
    "\n",
    "print(\"WER:\", wer(reference, transcricao))\n",
    "\n"
   ]
  },
  {
   "cell_type": "code",
   "execution_count": 11,
   "id": "6babdb1e",
   "metadata": {},
   "outputs": [],
   "source": [
    "def gerar_transcricao_errada(texto, erro_desejado=0.18):\n",
    "    palavras = texto.split()\n",
    "    n_total = len(palavras)\n",
    "    n_erros = round(n_total * erro_desejado)\n",
    "\n",
    "    for _ in range(n_erros):\n",
    "        if not palavras:\n",
    "            break\n",
    "        i = random.randint(0, len(palavras) - 1)\n",
    "        acao = random.choice([\"substituir\", \"omitir\", \"inserir\"])\n",
    "        if acao == \"substituir\":\n",
    "            palavras[i] = \"ERRO\"\n",
    "        elif acao == \"omitir\":\n",
    "            palavras[i] = \"\"\n",
    "        elif acao == \"inserir\":\n",
    "            palavras.insert(i, \"EXTRA\")\n",
    "    palavras = [p for p in palavras if p != \"\"]\n",
    "    return \" \".join(palavras)\n",
    "df = pd.read_csv(\"C://Users//garci//OneDrive//Área de Trabalho//Ambiente de trabalho unbunto//Cienciadedados//IPL//Tese//interrogatorio_respostas.csv\")\n",
    "df[\"transcricao_simulada\"] = df[\"referencia\"].apply(lambda x: gerar_transcricao_errada(str(x), erro_desejado=0.18))\n",
    "df.to_csv(\"com_transcricao_simulada.csv\", index=False)\n"
   ]
  },
  {
   "cell_type": "code",
   "execution_count": 14,
   "id": "11619fe4",
   "metadata": {},
   "outputs": [
    {
     "name": "stdout",
     "output_type": "stream",
     "text": [
      "                                          referencia  \\\n",
      "0  \"Boa tarde, senhor João pereira. Gostaria de c...   \n",
      "1                                             \"Sim.\"   \n",
      "2  \"Ótimo. Vamos conversar sobre um incidente oco...   \n",
      "3  \"Antes de tudo, pode me contar onde o senhor e...   \n",
      "4  Encontrava-me nas Compras no Continente do Col...   \n",
      "\n",
      "                                transcricao_simulada       wer  \n",
      "0  \"Boa tarde, senhor João pereira. Gostaria de c...  0.135135  \n",
      "1                                             \"Sim.\"  0.000000  \n",
      "2  \"Ótimo. Vamos sobre um incidente ocorrido rece...  0.157895  \n",
      "3  \"Antes de tudo, pode me contar onde o senhor e...  0.142857  \n",
      "4  Encontrava-me nas Compras no Continente do Col...  0.090909  \n",
      "\n",
      "WER médio: 15.93%\n"
     ]
    }
   ],
   "source": [
    "df = pd.read_csv(\"C://Users//garci//OneDrive//Área de Trabalho//Ambiente de trabalho unbunto//Cienciadedados//IPL//Tese//com_transcricao_simulada.csv\")\n",
    "df[\"wer\"] = df.apply(lambda row: wer(str(row[\"referencia\"]), str(row[\"transcricao_simulada\"])), axis=1)\n",
    "print(df[[\"referencia\", \"transcricao_simulada\", \"wer\"]].head())\n",
    "media_wer = df[\"wer\"].mean()\n",
    "print(f\"\\nWER médio: {media_wer:.2%}\")\n"
   ]
  }
 ],
 "metadata": {
  "kernelspec": {
   "display_name": "Python 3",
   "language": "python",
   "name": "python3"
  },
  "language_info": {
   "codemirror_mode": {
    "name": "ipython",
    "version": 3
   },
   "file_extension": ".py",
   "mimetype": "text/x-python",
   "name": "python",
   "nbconvert_exporter": "python",
   "pygments_lexer": "ipython3",
   "version": "3.12.6"
  }
 },
 "nbformat": 4,
 "nbformat_minor": 5
}
