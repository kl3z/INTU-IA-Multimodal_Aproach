{
 "cells": [
  {
   "cell_type": "code",
   "execution_count": 4,
   "id": "0ecd0974",
   "metadata": {},
   "outputs": [],
   "source": [
    "#!pip install jiwer"
   ]
  },
  {
   "cell_type": "code",
   "execution_count": 6,
   "id": "e4cfee46",
   "metadata": {},
   "outputs": [],
   "source": [
    "from jiwer import wer\n",
    "import random\n",
    "import pandas as pd"
   ]
  },
  {
   "cell_type": "code",
   "execution_count": 14,
   "id": "11619fe4",
   "metadata": {},
   "outputs": [
    {
     "name": "stdout",
     "output_type": "stream",
     "text": [
      "                                          referencia  \\\n",
      "0  \"Boa tarde, senhor João pereira. Gostaria de c...   \n",
      "1                                             \"Sim.\"   \n",
      "2  \"Ótimo. Vamos conversar sobre um incidente oco...   \n",
      "3  \"Antes de tudo, pode me contar onde o senhor e...   \n",
      "4  Encontrava-me nas Compras no Continente do Col...   \n",
      "\n",
      "                                transcricao_simulada       wer  \n",
      "0  \"Boa tarde, senhor João pereira. Gostaria de c...  0.135135  \n",
      "1                                             \"Sim.\"  0.000000  \n",
      "2  \"Ótimo. Vamos sobre um incidente ocorrido rece...  0.157895  \n",
      "3  \"Antes de tudo, pode me contar onde o senhor e...  0.142857  \n",
      "4  Encontrava-me nas Compras no Continente do Col...  0.090909  \n",
      "\n",
      "WER médio: 15.93%\n"
     ]
    }
   ],
   "source": [
    "df = pd.read_csv(\"C://Users//garci//OneDrive//Área de Trabalho//Ambiente de trabalho unbunto//Cienciadedados//IPL//Tese//com_transcricao_simulada.csv\")\n",
    "df[\"wer\"] = df.apply(lambda row: wer(str(row[\"referencia\"]), str(row[\"transcricao_simulada\"])), axis=1)\n",
    "print(df[[\"referencia\", \"transcricao_simulada\", \"wer\"]].head())\n",
    "media_wer = df[\"wer\"].mean()\n",
    "print(f\"\\nWER médio: {media_wer:.2%}\")\n"
   ]
  }
 ],
 "metadata": {
  "kernelspec": {
   "display_name": "Python 3",
   "language": "python",
   "name": "python3"
  },
  "language_info": {
   "codemirror_mode": {
    "name": "ipython",
    "version": 3
   },
   "file_extension": ".py",
   "mimetype": "text/x-python",
   "name": "python",
   "nbconvert_exporter": "python",
   "pygments_lexer": "ipython3",
   "version": "3.12.6"
  }
 },
 "nbformat": 4,
 "nbformat_minor": 5
}
