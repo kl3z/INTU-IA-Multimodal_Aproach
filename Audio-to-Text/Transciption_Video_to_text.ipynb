{
 "cells": [
  {
   "cell_type": "code",
   "execution_count": 3,
   "id": "77ee38a8",
   "metadata": {},
   "outputs": [],
   "source": [
    "import whisper\n",
    "from tkinter import Tk\n",
    "from tkinter.filedialog import askopenfilename"
   ]
  },
  {
   "cell_type": "code",
   "execution_count": null,
   "id": "0bd5907b",
   "metadata": {},
   "outputs": [],
   "source": [
    "Tk().withdraw()\n",
    "caminho_video = askopenfilename(title=\"Selecione o vídeo .mp4\",filetypes=[(\"Ficheiros de vídeo\", \"*.mp4\")])\n",
    "if not caminho_video:\n",
    "    print(\"Nenhum ficheiro selecionado.\")\n",
    "    exit()\n",
    "model = whisper.load_model(\"large\")\n",
    "result = model.transcribe(caminho_video, language=\"pt\")\n",
    "print(result[\"text\"])\n",
    "with open(\"transcricao.txt\", \"w\", encoding=\"utf-8\") as f:\n",
    "    f.write(result[\"text\"])"
   ]
  }
 ],
 "metadata": {
  "kernelspec": {
   "display_name": "base",
   "language": "python",
   "name": "python3"
  },
  "language_info": {
   "codemirror_mode": {
    "name": "ipython",
    "version": 3
   },
   "file_extension": ".py",
   "mimetype": "text/x-python",
   "name": "python",
   "nbconvert_exporter": "python",
   "pygments_lexer": "ipython3",
   "version": "3.12.3"
  }
 },
 "nbformat": 4,
 "nbformat_minor": 5
}
