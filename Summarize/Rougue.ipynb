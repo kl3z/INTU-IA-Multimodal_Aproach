{
 "cells": [
  {
   "cell_type": "code",
   "execution_count": 1,
   "id": "6d6d7342",
   "metadata": {},
   "outputs": [],
   "source": [
    "import pandas as pd\n",
    "from rouge_score import rouge_scorer"
   ]
  },
  {
   "cell_type": "code",
   "execution_count": 4,
   "id": "ffa21fe8",
   "metadata": {},
   "outputs": [
    {
     "name": "stdout",
     "output_type": "stream",
     "text": [
      "✅ Métricas ROUGE calculadas e salvas em metricas_rouge.xlsx\n"
     ]
    }
   ],
   "source": [
    "input_excel = \"entrevistas_com_sumarios.xlsx\"\n",
    "output_excel = \"metricas_rouge.xlsx\"\n",
    "df = pd.read_excel(input_excel)\n",
    "scorer = rouge_scorer.RougeScorer(\n",
    "    ['rouge1', 'rouge2', 'rougeL'], \n",
    "    use_stemmer=True\n",
    ")\n",
    "def calcular_rouge(referencia, hipotese):\n",
    "    scores = scorer.score(referencia, hipotese)\n",
    "    return {\n",
    "        'ROUGE1': scores['rouge1'].fmeasure,\n",
    "        'ROUGE2': scores['rouge2'].fmeasure,\n",
    "        'ROUGEL': scores['rougeL'].fmeasure,\n",
    "    }\n",
    "resultados = []\n",
    "for _, row in df.iterrows():\n",
    "    referencia = row['Entrevista'] \n",
    "    chatgpt = row['Sum ChatGPT'] \n",
    "    deepseek = row['Sum Deepseek']  \n",
    "    t5 = row['Sum meu modelo']\n",
    "\n",
    "    rouge_chatgpt = calcular_rouge(referencia, chatgpt)\n",
    "    rouge_deepseek = calcular_rouge(referencia, deepseek)\n",
    "    rouge_t5 = calcular_rouge(referencia, t5)\n",
    "\n",
    "    resultados.append({\n",
    "        'Texto_Original': row['Entrevista'][:100] + \"...\",  \n",
    "        'ROUGE1_ChatGPT': rouge_chatgpt['ROUGE1'],\n",
    "        'ROUGE2_ChatGPT': rouge_chatgpt['ROUGE2'],\n",
    "        'ROUGEL_ChatGPT': rouge_chatgpt['ROUGEL'],\n",
    "        'ROUGE1_DeepSeek': rouge_deepseek['ROUGE1'],\n",
    "        'ROUGE2_DeepSeek': rouge_deepseek['ROUGE2'],\n",
    "        'ROUGEL_DeepSeek': rouge_deepseek['ROUGEL'],\n",
    "        'ROUGE1_LAN_T5': rouge_t5['ROUGE1'],\n",
    "        'ROUGE2_LAN_T5': rouge_t5['ROUGE2'],\n",
    "        'ROUGEL_LAN_T5': rouge_t5['ROUGEL'],\n",
    "    })\n",
    "df_resultados = pd.DataFrame(resultados)\n",
    "df_resultados.to_excel(output_excel, index=False)\n",
    "\n",
    "print(f\"✅ Métricas ROUGE calculadas e salvas em {output_excel}\")"
   ]
  },
  {
   "cell_type": "code",
   "execution_count": 5,
   "id": "ba47dbef",
   "metadata": {},
   "outputs": [
    {
     "name": "stdout",
     "output_type": "stream",
     "text": [
      "Médias das métricas ROUGE:\n",
      "ROUGE1_ChatGPT     0.161937\n",
      "ROUGE2_ChatGPT     0.074780\n",
      "ROUGEL_ChatGPT     0.111989\n",
      "ROUGE1_DeepSeek    0.111575\n",
      "ROUGE2_DeepSeek    0.044420\n",
      "ROUGEL_DeepSeek    0.080039\n",
      "ROUGE1_LAN_T5      0.080683\n",
      "ROUGE2_LAN_T5      0.066590\n",
      "ROUGEL_LAN_T5      0.076841\n",
      "dtype: float64\n"
     ]
    }
   ],
   "source": [
    "df2 = pd.read_excel('metricas_rouge.xlsx')\n",
    "rouge_columns = [\n",
    "    'ROUGE1_ChatGPT', 'ROUGE2_ChatGPT', 'ROUGEL_ChatGPT',\n",
    "    'ROUGE1_DeepSeek', 'ROUGE2_DeepSeek', 'ROUGEL_DeepSeek',\n",
    "    'ROUGE1_LAN_T5', 'ROUGE2_LAN_T5', 'ROUGEL_LAN_T5'\n",
    "]\n",
    "rouge_means = df2[rouge_columns].mean()\n",
    "\n",
    "print(\"Médias das métricas ROUGE:\")\n",
    "print(rouge_means)"
   ]
  }
 ],
 "metadata": {
  "kernelspec": {
   "display_name": "Python 3",
   "language": "python",
   "name": "python3"
  },
  "language_info": {
   "codemirror_mode": {
    "name": "ipython",
    "version": 3
   },
   "file_extension": ".py",
   "mimetype": "text/x-python",
   "name": "python",
   "nbconvert_exporter": "python",
   "pygments_lexer": "ipython3",
   "version": "3.12.6"
  }
 },
 "nbformat": 4,
 "nbformat_minor": 5
}
